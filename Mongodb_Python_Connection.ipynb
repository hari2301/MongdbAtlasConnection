{
 "cells": [
  {
   "cell_type": "code",
   "execution_count": 26,
   "metadata": {},
   "outputs": [
    {
     "name": "stdout",
     "output_type": "stream",
     "text": [
      "Requirement already satisfied: pymongo[srv] in /home/vignesh/anaconda3/lib/python3.7/site-packages (3.11.0)\r\n",
      "Requirement already satisfied: dnspython<2.0.0,>=1.16.0; extra == \"srv\" in /home/vignesh/anaconda3/lib/python3.7/site-packages (from pymongo[srv]) (1.16.0)\r\n"
     ]
    }
   ],
   "source": [
    "!pip install pymongo[srv]"
   ]
  },
  {
   "cell_type": "markdown",
   "metadata": {},
   "source": [
    "## Connection and Insertion"
   ]
  },
  {
   "cell_type": "code",
   "execution_count": 24,
   "metadata": {},
   "outputs": [
    {
     "data": {
      "text/plain": [
       "<pymongo.results.InsertManyResult at 0x7ff5eef81d70>"
      ]
     },
     "execution_count": 24,
     "metadata": {},
     "output_type": "execute_result"
    }
   ],
   "source": [
    "import pymongo\n",
    "\n",
    "#connection with \"localserver\" through localhost id:\n",
    "client=pymongo.MongoClient('mongodb://127.0.0.1:27017/')\n",
    "\n",
    "#Select/Create database by giving name:\n",
    "db=client['states']\n",
    "\n",
    "#Create collection(table) by giving command:\n",
    "collection=db.city_details\n",
    "\n",
    "#Create dictionary which is in key/value pair to pass the record:\n",
    "data=[{\n",
    "    \"city_name\":\"tamilnadu\",\n",
    "    \"population\":\"20lakhs\",\n",
    "    \"male\":\"10lakhs\",\n",
    "    \"female\":\"07lakhs\",\n",
    "    \"others\":\"3lakhs\",\n",
    "    \"industries\":\"1600\"\n",
    "},{\n",
    "    \"city_name\":\"karnataka\",\n",
    "    \"population\":\"90lakhs\",\n",
    "    \"male\":\"70lakhs\",\n",
    "    \"female\":\"10lakhs\",\n",
    "    \"others\":\"10lakhs\",\n",
    "    \"industries\":\"12600\"\n",
    "},{\n",
    "    \"city_name\":\"kerala\",\n",
    "    \"population\":\"20lakhs\",\n",
    "    \"male\":\"10lakhs\",\n",
    "    \"female\":\"08lakhs\",\n",
    "    \"others\":\"2lakhs\",\n",
    "    \"industries\":\"2200\"\n",
    "},{\n",
    "    \"city_name\":\"pondicherry\",\n",
    "    \"population\":\"50lakhs\",\n",
    "    \"male\":\"20lakhs\",\n",
    "    \"female\":\"10lakhs\",\n",
    "    \"others\":\"20lakhs\",\n",
    "    \"industries\":\"2900\"\n",
    "},{\n",
    "    \"city_name\":\"arunachal pradesh\",\n",
    "    \"population\":\"20lakhs\",\n",
    "    \"male\":\"10lakhs\",\n",
    "    \"female\":\"07lakhs\",\n",
    "    \"others\":\"3lakhs\",\n",
    "    \"industries\":\"2600\"\n",
    "}]\n",
    "\n",
    "#Insert data by command:\n",
    "collection.insert_many(data)\n",
    "#check the mongodb community GUI this details willl be uploaded"
   ]
  },
  {
   "cell_type": "code",
   "execution_count": null,
   "metadata": {},
   "outputs": [],
   "source": [
    "Fetching with and without conditions"
   ]
  },
  {
   "cell_type": "code",
   "execution_count": 21,
   "metadata": {},
   "outputs": [
    {
     "name": "stdout",
     "output_type": "stream",
     "text": [
      "{'_id': ObjectId('5f65d82fcdb67a51d26eea29'), 'city_name': 'trichy', 'population': '20lakhs', 'male': '10lakhs', 'female': '07lakhs', 'others': '3lakhs', 'industries': '2600'}\n",
      "{'_id': ObjectId('5f65d916cdb67a51d26eea2d'), 'city_name': 'karnataka', 'population': '90lakhs', 'male': '70lakhs', 'female': '10lakhs', 'others': '10lakhs', 'industries': '12600'}\n",
      "{'_id': ObjectId('5f65d916cdb67a51d26eea2e'), 'city_name': 'kerala', 'population': '20lakhs', 'male': '10lakhs', 'female': '08lakhs', 'others': '2lakhs', 'industries': '2200'}\n",
      "{'_id': ObjectId('5f65d916cdb67a51d26eea2f'), 'city_name': 'pondicherry', 'population': '50lakhs', 'male': '20lakhs', 'female': '10lakhs', 'others': '20lakhs', 'industries': '2900'}\n",
      "{'_id': ObjectId('5f65d916cdb67a51d26eea30'), 'city_name': 'arunachal pradesh', 'population': '20lakhs', 'male': '10lakhs', 'female': '07lakhs', 'others': '3lakhs', 'industries': '2600'}\n"
     ]
    }
   ],
   "source": [
    "#retrive the single data from collection:\n",
    "collection.find_one()\n",
    "\n",
    "#fetch all the recors form the collection:\n",
    "for all_data in collection.find({}):\n",
    "    print(all_data)\n",
    "\n",
    "#fetch by some conditions:\n",
    "for industries in collection.find({\"industries\":{'$gt':2900}}):\n",
    "    print(industries)"
   ]
  },
  {
   "cell_type": "code",
   "execution_count": null,
   "metadata": {},
   "outputs": [],
   "source": []
  }
 ],
 "metadata": {
  "kernelspec": {
   "display_name": "Python 3",
   "language": "python",
   "name": "python3"
  },
  "language_info": {
   "codemirror_mode": {
    "name": "ipython",
    "version": 3
   },
   "file_extension": ".py",
   "mimetype": "text/x-python",
   "name": "python",
   "nbconvert_exporter": "python",
   "pygments_lexer": "ipython3",
   "version": "3.7.6"
  }
 },
 "nbformat": 4,
 "nbformat_minor": 4
}
