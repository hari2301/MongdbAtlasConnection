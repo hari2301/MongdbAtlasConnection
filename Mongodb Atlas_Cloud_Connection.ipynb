{
 "cells": [
  {
   "cell_type": "markdown",
   "metadata": {},
   "source": [
    "## Cloud Providers Vs Databases\n",
    "\n",
    " \n",
    "   During earlier days companies use files, papers, racks, boxes to save and write their datas. When the papers becomes digitilized the database concepts was grownup silently. There will be a small computer with some mb of ram and hard disk, that stores the limited amount of data. Again after some years later like 20's companies ows a server room and keep their data safe and stores enormous amount of data and maintained them. But now the data generating speed become high, size becomes large, usege becomes heavy, maintanince become too tough.\n",
    "   \n",
    "   So there is a technique called \"Cloud Computing\" which was released at 1960's in US by CIS who was the online service provider at that time. They allow their users to store some limited amount of files by offering them a storage. Now there are three gaints who providing the cloud computing service popularly, which are AWS(amazon web service), GCP(google cloud platform, AZURE(microsoft azure), they gives the full computing power through online for any system on demand. We can store, deploy, fetch, build any kind of data/application here with some cost as per their allocation. Within these we have many sub-divisions which helps in providing their services, those are Software as a Service (SaaS), Platform as a Service (PaaS), Infrastructure as a Service (IaaS), Database as as Service(DBaas).\n",
    "   \n",
    "   Here we look into DBaas. MongoDb contains DBaas called \"MongoDb Atlas\", which was deployed fully managed MongoDb in AWS,GCP,AZURE and provides scalability, fexilibility, maintanince, avaliabality, security, privacy. Let us try to connect the mongodb compass and local system with cloud then store the data in it through python.    "
   ]
  },
  {
   "cell_type": "markdown",
   "metadata": {},
   "source": [
    "##  Mongodb Atlas Vs Mongodb Compass \n",
    "\n",
    "   Make sure your system has already installed MongoDb Compass.Now lets establish the connection between Atlas and compass GUI..\n",
    "   Finesh the other .ipynb file attached with this repositary\n",
    "   \n",
    "   1.Login here https://account.mongodb.com/account/login \n",
    "   \n",
    "   2.Select <b>\"Build Cluster\"</b> button\n",
    "   \n",
    "   3.<i>\"Choose a path\"</i> window will appear click on <b>\"Create a Cluster\"</b> button on first tab\n",
    "   \n",
    "   4.keep all default settings as it is, change cluster name if you want then click on <b>\"Create Cluster\"</b>.\n",
    "   \n",
    "   5.The above process will take a while to create a cluster on cloud.\n",
    "   \n",
    "   6.<i>Dashboard</i> will apper with some graphs, configuration. click on the \"Connect\" button.\n",
    "   \n",
    "   7.setup your ip, user name, password in the <i>connect to cluster</i> window click on <b>\"choose conniction window\"</b>.\n",
    "   \n",
    "   8.<i>Now connect to cluster</i> window will appear with 3 connection methods.click on<b> \"connect using mongodb compass\" method.</b>\n",
    "   \n",
    "   9.Select \"I have mongodb compass\".\n",
    "   \n",
    "   10.Now you will be given with this option \"Copy the connection string, then open MongoDB Compass\", copy the link inside the field.\n",
    "   \n",
    "   11.open mongodb compass select \"New Connection\", now paste the link inside the text field.\n",
    "   \n",
    "   12.inside the link you can find \"< password >\" word, change the word with your password.click on <b>connect</b>\n",
    "    \n",
    "   11.On the left navigation bar you can see the connection details.<b>Now compess is connected with atlas</b>\n",
    "   \n",
    "   12.<b>Now you have successfully connect the compass with cloud</b>"
   ]
  },
  {
   "cell_type": "markdown",
   "metadata": {},
   "source": [
    "## Mongodb Atlas Vs LocalSystem \n",
    "#### connecting local machine with cloud using python\n",
    "\n",
    "\n",
    "Make sure you have work with the  <i>Mongodb_python_connection.ipynb</i> file."
   ]
  },
  {
   "cell_type": "code",
   "execution_count": 2,
   "metadata": {},
   "outputs": [
    {
     "data": {
      "text/plain": [
       "<pymongo.results.InsertManyResult at 0x7f85c80e8280>"
      ]
     },
     "execution_count": 2,
     "metadata": {},
     "output_type": "execute_result"
    }
   ],
   "source": [
    "from pymongo import MongoClient\n",
    "\n",
    "#Creating an object for connection\n",
    "connection=MongoClient(#PASTE THE LINK HERE AND CHANGE THE PASSWORD)\n",
    "\n",
    "#Accessing the database which used in Mongodb_python_connection.ipynb file.\n",
    "database=connection['area']\n",
    "\n",
    "#create collection\n",
    "collection=database['area_details']\n",
    "\n",
    "data1=[{\n",
    "    \"city_name\":\"himachal pradesh\",\n",
    "    \"population\":\"20lakhs\",\n",
    "    \"male\":\"10lakhs\",\n",
    "    \"female\":\"07lakhs\",\n",
    "    \"others\":\"3lakhs\",\n",
    "    \"industries\":\"160\"\n",
    "},{\n",
    "    \"city_name\":\"hariyana\",\n",
    "    \"population\":\"10lakhs\",\n",
    "    \"male\":\"50lakhs\",\n",
    "    \"female\":\"40lakhs\",\n",
    "    \"others\":\"01lakhs\",\n",
    "    \"industries\":\"200\"\n",
    "},{\n",
    "    \"city_name\":\"bihar\",\n",
    "    \"population\":\"21lakhs\",\n",
    "    \"male\":\"10lakhs\",\n",
    "    \"female\":\"08lakhs\",\n",
    "    \"others\":\"2lakhs\",\n",
    "    \"industries\":\"800\"\n",
    "},{\n",
    "    \"city_name\":\"delhi\",\n",
    "    \"population\":\"90lakhs\",\n",
    "    \"male\":\"50lakhs\",\n",
    "    \"female\":\"40lakhs\",\n",
    "    \"others\":0,\n",
    "    \"industries\":\"3000\"\n",
    "}]\n",
    "\n",
    "collection.insert_many(data1)"
   ]
  },
  {
   "cell_type": "markdown",
   "metadata": {},
   "source": [
    "### Your localsystem is successfully connected with the cloud\n",
    "\n",
    "check the <b>Collections</b> inside the Atlas dashboard, you can find the cluster that you have created ! "
   ]
  },
  {
   "cell_type": "code",
   "execution_count": null,
   "metadata": {},
   "outputs": [],
   "source": []
  }
 ],
 "metadata": {
  "kernelspec": {
   "display_name": "Python 3",
   "language": "python",
   "name": "python3"
  },
  "language_info": {
   "codemirror_mode": {
    "name": "ipython",
    "version": 3
   },
   "file_extension": ".py",
   "mimetype": "text/x-python",
   "name": "python",
   "nbconvert_exporter": "python",
   "pygments_lexer": "ipython3",
   "version": "3.7.6"
  }
 },
 "nbformat": 4,
 "nbformat_minor": 4
}
